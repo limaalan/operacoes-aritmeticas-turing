{
 "cells": [
  {
   "cell_type": "markdown",
   "metadata": {
    "id": "fFwyaeKBSxUK"
   },
   "source": [
    "\n",
    "# Tutorial Iterativo em Jupyter sobre Máquinas de Turing para Operações Aritméticas\n",
    "\n",
    "<img src=\"./figuras/banner-lfac.png\" alt=\"Banner\" width=\"40%\"/>\n",
    "\n",
    "\n",
    "__Alan Lima Marques__\n",
    "\n",
    "e-mail: [alanm@alunos.utfpr.edu.br](mailto:alanm@alunos.utfpr.edu.br)\n",
    "\n",
    "Universidade Tecnológica Federal do Paraná (UTFPR)\n",
    "\n",
    "Departamento Acadêmico de Computação (DACOM-CM)\n",
    "\n",
    "Curso de Bacharelado em Ciência da Computação.\n",
    "\n",
    "## Resumo\n",
    "\n",
    "Este tutorial visa mostrar a implementação de máquinas de turing para operações aritméticas em python, utilizando a biblioteca [automata](https://pypi.org/project/automata-lib/).\n",
    "\n"
   ]
  },
  {
   "cell_type": "markdown",
   "metadata": {
    "id": "O3gF69-Mofsf"
   },
   "source": [
    "## Introdução\n",
    "\n",
    "Nesse relatório serão mostradas máquinas de Turing que realizam as quatro operações aritméticas básicas, são essas:\n",
    "- Soma\n",
    "- Subtração\n",
    "- Multiplicação\n",
    "- Divisão\n",
    "\n",
    "As propriedades e a capacidade de uma máquina de Turing de poder navegar para a esquerda ou direita em sua fita (memória) tornam possível a realização dessas operações. O valor de entrada, que se encontra inicialmente na fita antes do processamento começar será dado em unário. Por exemplo, a entrada __#111+11#__ representa a operação __3+2__.\n"
   ]
  },
  {
   "cell_type": "markdown",
   "metadata": {},
   "source": [
    "# Máquinas de Turing\n",
    "\n",
    "A máquina de Turing é um modelo computacional teórico concebido por Alan turing, composto por uma fita de extensão infinita e um cabeçote de leitura/escrita. A máquina lê e escreve valores da fita, e movimenta-se para a esquerda, direita ou mantém-se na posição atual. Como outros tipos de autômatos, a máquina também tem estados e transições. \n",
    "\n",
    "![Representação](figuras/turing_machine.jpg)\n",
    "\n",
    "__Figura 1:__ Representação de uma máquina de turing\n",
    "\n",
    "Formalmente, uma máquina de Turing com uma fita pode ser definida da seguinte forma :\n",
    "- Q   Conjunto de estados\n",
    "- $\\Sigma $   Alfabeto de símbolos \n",
    "- $\\Gamma$   Alfabeto de fita\n",
    "- $s\\in Q$   Estado inicial\n",
    "- $b\\in \\Gamma$   Símbolo de espaço em branco na fita\n",
    "- $F \\subseteq Q $   Conjunto de estados finais\n",
    "- $\\delta :Q\\times \\Gamma ⇒ Q\\times \\Gamma \\times \\{\\leftarrow ,\\rightarrow \\}$   Função de transição \n",
    "\n",
    "Máquinas de Turing podem ter mais que uma fita, ou até fitas bi-dimensionais, mas o poder computacional dessas variações é o mesmo da máquina com uma só fita infinita para um dos lados. "
   ]
  },
  {
   "cell_type": "markdown",
   "metadata": {
    "id": "NsOC5oUKDg1e"
   },
   "source": [
    "## Preparação do Ambiente\n",
    "\n",
    "Para criação das Máquinas de Turing que realizam operações aritméticas precisaremos da biblioteca\n",
    "[automata-lib](https://pypi.org/project/automata-lib/) que auxilia na implementação de Máquinas de Estados e Autômatos.\n",
    "\n",
    "__O comando a seguir realizará a instalação da biblioteca:__\n"
   ]
  },
  {
   "cell_type": "code",
   "execution_count": 1,
   "metadata": {
    "colab": {
     "base_uri": "https://localhost:8080/"
    },
    "id": "E0h4dKQPKZ-k",
    "outputId": "7642c694-1722-4c0f-bbad-a8b7e5752c93"
   },
   "outputs": [
    {
     "name": "stdout",
     "output_type": "stream",
     "text": [
      "Requirement already satisfied: automata-lib in c:\\users\\user\\anaconda3\\lib\\site-packages (5.0.0)\n",
      "Requirement already satisfied: pydot in c:\\users\\user\\anaconda3\\lib\\site-packages (from automata-lib) (1.4.2)\n",
      "Requirement already satisfied: pyparsing>=2.1.4 in c:\\users\\user\\anaconda3\\lib\\site-packages (from pydot->automata-lib) (3.0.4)\n",
      "Note: you may need to restart the kernel to use updated packages.\n"
     ]
    }
   ],
   "source": [
    "pip install automata-lib"
   ]
  },
  {
   "cell_type": "markdown",
   "metadata": {},
   "source": [
    "# Operações Aritméticas\n",
    "\n",
    "A seguir será mostrado a implementação das operações aritméticas (soma, subtração, multiplicação e divisão ) no programa [JFlap](https://www.jflap.org/), seguido da sua implementação em python.\n",
    "\n",
    "O artigo [Construction of a Basic Calculator through the Turing Machine – A Review¹](http://www.ijetajournal.org/volume-2/issue-6/IJETA-V2I6P1.pdf) mostra que é possível realizar essas quatro operações com máquinas de Turing de uma fita. "
   ]
  },
  {
   "cell_type": "markdown",
   "metadata": {},
   "source": [
    "## Adição\n",
    "\n",
    "A máquina de Turing abaixo realiza a soma de dois números em unário. A entrada é feita no formato __#E+E__ e o resultado é a soma do número de E's. O autômato funciona substituindo o símbolo + por E e depois apagando o último E.\n",
    "\n",
    "\n",
    "![Soma](figuras/soma.png)\n",
    "\n",
    "__Figura 2:__ Representação de uma máquina de Turing que realiza soma.\n",
    "\n",
    "\n",
    "A implementação da MT pode ser vista no código Soma"
   ]
  },
  {
   "cell_type": "markdown",
   "metadata": {},
   "source": [
    "__Código Soma:__ Implementação da Máquina de Turing para Adição"
   ]
  },
  {
   "cell_type": "code",
   "execution_count": 2,
   "metadata": {},
   "outputs": [],
   "source": [
    "from automata.tm.dtm import DTM\n",
    "# Autômato que realiza a soma de dois números unários \n",
    "dtm_soma = DTM(\n",
    "    states={'q0', 'q1', 'q2', 'q3', 'q4'},\n",
    "    input_symbols={'E', '+','#'},\n",
    "    tape_symbols={'E', '+', '#', ' '},\n",
    "    transitions={\n",
    "        'q0': {\n",
    "            '#': ('q1', ' ', 'R')\n",
    "        },\n",
    "        'q1': {\n",
    "            'E': ('q1', 'E', 'R'),\n",
    "            '+': ('q2', 'E', 'R')\n",
    "        },\n",
    "        'q2': {\n",
    "            'E': ('q2', 'E', 'R'),\n",
    "            ' ': ('q3', ' ', 'L')\n",
    "        },\n",
    "        'q3': {\n",
    "            'E': ('q4', ' ', 'N')\n",
    "        }\n",
    "    },\n",
    "    initial_state='q0',\n",
    "    blank_symbol=' ',\n",
    "    final_states={'q4'}\n",
    ")\n"
   ]
  },
  {
   "cell_type": "markdown",
   "metadata": {},
   "source": [
    "Função de Validação para verificar se a especificação está correta."
   ]
  },
  {
   "cell_type": "code",
   "execution_count": 3,
   "metadata": {},
   "outputs": [
    {
     "data": {
      "text/plain": [
       "True"
      ]
     },
     "execution_count": 3,
     "metadata": {},
     "output_type": "execute_result"
    }
   ],
   "source": [
    "dtm_soma.validate()  # returns True"
   ]
  },
  {
   "cell_type": "markdown",
   "metadata": {},
   "source": [
    "O método/função `read_input(palavra)` verifica se a _palavra_ é aceita pela Máquina de Turing e retorna a configuração final para ela."
   ]
  },
  {
   "cell_type": "code",
   "execution_count": 4,
   "metadata": {},
   "outputs": [
    {
     "name": "stdout",
     "output_type": "stream",
     "text": [
      "q4:  EEEEEEEE  \n",
      "             ^\n"
     ]
    }
   ],
   "source": [
    "dtm_soma.read_input('#EEEEE+EEE').print()"
   ]
  },
  {
   "cell_type": "markdown",
   "metadata": {},
   "source": [
    "O método/função `read_input_stepwise(palavra)` verifica se a _palavra_ é aceita pela Máquina de Turing e retorna todas as configurações da execução."
   ]
  },
  {
   "cell_type": "code",
   "execution_count": 5,
   "metadata": {},
   "outputs": [
    {
     "data": {
      "text/plain": [
       "[TMConfiguration('q0', TMTape('#EE+E', 0)),\n",
       " TMConfiguration('q1', TMTape(' EE+E', 1)),\n",
       " TMConfiguration('q1', TMTape(' EE+E', 2)),\n",
       " TMConfiguration('q1', TMTape(' EE+E', 3)),\n",
       " TMConfiguration('q2', TMTape(' EEEE', 4)),\n",
       " TMConfiguration('q2', TMTape(' EEEE ', 5)),\n",
       " TMConfiguration('q3', TMTape(' EEEE ', 4)),\n",
       " TMConfiguration('q4', TMTape(' EEE  ', 4))]"
      ]
     },
     "execution_count": 5,
     "metadata": {},
     "output_type": "execute_result"
    }
   ],
   "source": [
    "list(dtm_soma.read_input_stepwise('#EE+E')) # Lista todas as transições feitas pelo autômato."
   ]
  },
  {
   "cell_type": "markdown",
   "metadata": {},
   "source": [
    "Abaixo alguns casos de teste:"
   ]
  },
  {
   "cell_type": "code",
   "execution_count": 6,
   "metadata": {},
   "outputs": [
    {
     "name": "stdout",
     "output_type": "stream",
     "text": [
      "Verificando palavra: #EE+E\n",
      "accepted\n",
      "q4:  EEE  \n",
      "        ^\n",
      "Verificando palavra: #E+E\n",
      "accepted\n",
      "q4:  EE  \n",
      "       ^\n",
      "Verificando palavra: #EEEEE+EEEEEEEE\n",
      "accepted\n",
      "q4:  EEEEEEEEEEEEE  \n",
      "                  ^\n",
      "Verificando palavra: #E+\n",
      "accepted\n",
      "q4:  E  \n",
      "      ^\n",
      "Verificando palavra: #+E\n",
      "accepted\n",
      "q4:  E  \n",
      "      ^\n"
     ]
    }
   ],
   "source": [
    "inputs = ['#EE+E','#E+E','#EEEEE+EEEEEEEE','#E+','#+E']\n",
    "\n",
    "for i in inputs:\n",
    "    print(\"Verificando palavra:\", i)\n",
    "    if dtm_soma.accepts_input(i):\n",
    "        print('accepted')\n",
    "    else:\n",
    "        print('rejected')\n",
    "    dtm_soma.read_input(i).print()"
   ]
  },
  {
   "cell_type": "markdown",
   "metadata": {},
   "source": [
    "## Subtração\n",
    "\n",
    "A máquina de Turing abaixo realiza a subtração de dois números em unário. A entrada é feita no formato __#E-E#__ e o resultado é a subtração do número de __E's__.  O Autômato funciona removendo um símbolo E de cada lado do símbolo de subtração até que acabe os símbolos __E__ de um dos lados.\n",
    "\n",
    "![Subtração](figuras/subtracao.png)\n",
    "\n",
    "__Figura 3:__ Representação de uma máquina de turing que realiza subtração\n",
    "\n",
    "\n",
    "A implementação da MT pode ser vista no código Subtração"
   ]
  },
  {
   "cell_type": "markdown",
   "metadata": {},
   "source": [
    "__Código Subtração:__ Implementação da Máquina de Turing para Subtração"
   ]
  },
  {
   "cell_type": "code",
   "execution_count": 7,
   "metadata": {},
   "outputs": [],
   "source": [
    "from automata.tm.dtm import DTM\n",
    "# Autômato que realiza a subtração de dois números unários \n",
    "dtm_sub = DTM(\n",
    "    states={'q0', 'q1', 'q2', 'q3', 'q4','q5','q6','q7','q8','q9'},\n",
    "    input_symbols={'E', '-','#'},\n",
    "    tape_symbols={'E', '-', '#', ' '},\n",
    "    transitions={\n",
    "        'q0': {\n",
    "            '#': ('q1', '#', 'R')\n",
    "        },\n",
    "        'q1': {\n",
    "            'E': ('q2', '#', 'R')            \n",
    "        },\n",
    "        'q2': {\n",
    "            'E': ('q2', 'E', 'R'),\n",
    "            '-': ('q3', '-', 'R')\n",
    "        },\n",
    "        'q3': {\n",
    "            'E': ('q3', 'E', 'R'),\n",
    "            '#': ('q4', '#', 'L')\n",
    "        },\n",
    "          'q4': {\n",
    "            'E': ('q5', '#', 'L')\n",
    "        },\n",
    "          'q5': {\n",
    "            '-': ('q9', '#', 'N'),\n",
    "            'E': ('q6', 'E', 'L')\n",
    "        },\n",
    "          'q6': {\n",
    "            'E': ('q6', 'E', 'L'),\n",
    "            '-': ('q7', '-', 'L')\n",
    "        },\n",
    "          'q7': {\n",
    "            'E': ('q8', 'E', 'L'),\n",
    "            '#': ('q9', '#', 'N')\n",
    "              \n",
    "        },\n",
    "          'q8': {\n",
    "            'E': ('q8', 'E', 'L'),\n",
    "            '#': ('q1', '#', 'R')\n",
    "        }\n",
    "        \n",
    "    },\n",
    "    initial_state='q0',\n",
    "    blank_symbol='#', #se não der certo  ' '\n",
    "    final_states={'q9'}\n",
    ")\n"
   ]
  },
  {
   "cell_type": "markdown",
   "metadata": {},
   "source": [
    "Função de Validação para verificar se a especificação está correta."
   ]
  },
  {
   "cell_type": "code",
   "execution_count": 8,
   "metadata": {},
   "outputs": [
    {
     "data": {
      "text/plain": [
       "True"
      ]
     },
     "execution_count": 8,
     "metadata": {},
     "output_type": "execute_result"
    }
   ],
   "source": [
    "dtm_sub.validate()  # returns True"
   ]
  },
  {
   "cell_type": "markdown",
   "metadata": {},
   "source": [
    "O método/função `read_input(palavra)` verifica se a _palavra_ é aceita pela Máquina de Turing e retorna a configuração final para ela."
   ]
  },
  {
   "cell_type": "code",
   "execution_count": 9,
   "metadata": {},
   "outputs": [
    {
     "name": "stdout",
     "output_type": "stream",
     "text": [
      "q9: ####EE#####\n",
      "          ^\n"
     ]
    }
   ],
   "source": [
    "dtm_sub.read_input('#EEEEE-EEE#').print()"
   ]
  },
  {
   "cell_type": "markdown",
   "metadata": {},
   "source": [
    "O método/função `read_input_stepwise(palavra)` verifica se a _palavra_ é aceita pela Máquina de Turing e retorna todas as configurações da execução."
   ]
  },
  {
   "cell_type": "code",
   "execution_count": 10,
   "metadata": {},
   "outputs": [
    {
     "data": {
      "text/plain": [
       "[TMConfiguration('q0', TMTape('#EE-E#', 0)),\n",
       " TMConfiguration('q1', TMTape('#EE-E#', 1)),\n",
       " TMConfiguration('q2', TMTape('##E-E#', 2)),\n",
       " TMConfiguration('q2', TMTape('##E-E#', 3)),\n",
       " TMConfiguration('q3', TMTape('##E-E#', 4)),\n",
       " TMConfiguration('q3', TMTape('##E-E#', 5)),\n",
       " TMConfiguration('q4', TMTape('##E-E#', 4)),\n",
       " TMConfiguration('q5', TMTape('##E-##', 3)),\n",
       " TMConfiguration('q9', TMTape('##E###', 3))]"
      ]
     },
     "execution_count": 10,
     "metadata": {},
     "output_type": "execute_result"
    }
   ],
   "source": [
    "list(dtm_sub.read_input_stepwise('#EE-E#')) # Lista todas as transições feitas pelo autômato."
   ]
  },
  {
   "cell_type": "markdown",
   "metadata": {},
   "source": [
    "Abaixo alguns casos de teste:"
   ]
  },
  {
   "cell_type": "code",
   "execution_count": 11,
   "metadata": {},
   "outputs": [
    {
     "name": "stdout",
     "output_type": "stream",
     "text": [
      "Verificando palavra: #EE-E#\n",
      "accepted\n",
      "q9: ##E###\n",
      "       ^\n",
      "Verificando palavra: #E-E#\n",
      "accepted\n",
      "q9: #####\n",
      "      ^\n",
      "Verificando palavra: #E-EE#\n",
      "accepted\n",
      "q9: ##-E##\n",
      "     ^\n",
      "Verificando palavra: #EEEE-EEEEEE#\n",
      "accepted\n",
      "q9: #####-EE#####\n",
      "        ^\n"
     ]
    }
   ],
   "source": [
    "inputs = ['#EE-E#','#E-E#','#E-EE#','#EEEE-EEEEEE#']\n",
    "\n",
    "for i in inputs:\n",
    "    print(\"Verificando palavra:\", i)\n",
    "    if dtm_sub.accepts_input(i):\n",
    "        print('accepted')\n",
    "    else:\n",
    "        print('rejected')\n",
    "    dtm_sub.read_input(i).print()"
   ]
  },
  {
   "cell_type": "markdown",
   "metadata": {},
   "source": [
    "O autômato não funciona nos casos onde o lado esquerdo ou direito da subtração são nulos. Para tal, transições adicionais nos estados q1 e q4 deveriam ser criadas, levando à um estado final."
   ]
  },
  {
   "cell_type": "markdown",
   "metadata": {},
   "source": [
    "## Multiplicação\n",
    "\n",
    "A máquina de Turing abaixo realiza a multiplicação de dois números em unário. A entrada é feita no formato __1*1__ e o resultado é a multiplicação do número de símbolos __1__.  O Autômato funciona removendo um símbolo __1__ do lado esquerdo e repetindo a quantidade de __1__ do lado direito em forma de Z, que posteriormente são substituídos por símbolos __1__. Isso Significa que em uma multiplicação de __X*Y__ o autômato faz sucessivas __X__ somas de __Y__.   \n",
    "\n",
    "![Multiplicação](figuras/multiplicacao.png)\n",
    "\n",
    "__Figura 4:__ Representação de uma máquina de turing que realiza subtração.\n",
    "\n",
    "\n",
    "A implementação da MT pode ser vista no código Multiplicação."
   ]
  },
  {
   "cell_type": "markdown",
   "metadata": {},
   "source": [
    "__Código Multiplicação:__ Implementação da Máquina de Turing para Multiplicação."
   ]
  },
  {
   "cell_type": "code",
   "execution_count": 12,
   "metadata": {},
   "outputs": [],
   "source": [
    "from automata.tm.dtm import DTM\n",
    "# Autômato que realiza a multiplicação de dois números unários \n",
    "dtm_mult = DTM(\n",
    "    states={'q0', 'q1', 'q2', 'q3', 'q4','q5','q6','q7','q8','q9','q10'},\n",
    "    input_symbols={'1','*'},\n",
    "    tape_symbols={'E', 'Z', '1', ' ','*'},\n",
    "    transitions={\n",
    "        'q0': {\n",
    "            '1': ('q1', ' ', 'R')\n",
    "        },\n",
    "        'q1': {\n",
    "            '*': ('q2', '1', 'R'),\n",
    "            '1': ('q5', '1', 'R')\n",
    "        },\n",
    "        'q2': {\n",
    "            '1': ('q2', '1', 'R'),\n",
    "            'Z': ('q2', '1', 'R'),\n",
    "            ' ': ('q3', ' ', 'L')\n",
    "        },\n",
    "        'q3': {\n",
    "            '1': ('q4', ' ', 'N')\n",
    "        },\n",
    "          'q5': {\n",
    "            '1': ('q5', '1', 'R'),\n",
    "            '*': ('q6', '*', 'R')\n",
    "        },\n",
    "          'q6': {\n",
    "            '1': ('q7', 'E', 'R'),\n",
    "            'Z': ('q9', 'Z', 'L')\n",
    "        },\n",
    "          'q7': {\n",
    "            'Z': ('q7', 'Z', 'R'),\n",
    "            '1': ('q7', '1', 'R'),\n",
    "            ' ': ('q8', 'Z', 'L')\n",
    "        },\n",
    "          'q8': {\n",
    "            'Z': ('q8', 'Z', 'L'),\n",
    "            '1': ('q8', '1', 'L'),\n",
    "            'E': ('q6', 'E', 'R')\n",
    "        },\n",
    "          'q9': {\n",
    "            'E': ('q9', '1', 'L'),\n",
    "            '*': ('q10', '*', 'L')\n",
    "        },\n",
    "          'q10': {\n",
    "            '1': ('q10', '1', 'L'),\n",
    "            ' ': ('q0', ' ', 'R')\n",
    "        }\n",
    "        \n",
    "    },\n",
    "    initial_state='q0',\n",
    "    blank_symbol=' ', #se não der certo  '#'\n",
    "    final_states={'q4'}\n",
    ")\n"
   ]
  },
  {
   "cell_type": "markdown",
   "metadata": {},
   "source": [
    "Função de Validação para verificar se a especificação está correta."
   ]
  },
  {
   "cell_type": "code",
   "execution_count": 13,
   "metadata": {},
   "outputs": [
    {
     "data": {
      "text/plain": [
       "True"
      ]
     },
     "execution_count": 13,
     "metadata": {},
     "output_type": "execute_result"
    }
   ],
   "source": [
    "dtm_mult.validate()  # returns True"
   ]
  },
  {
   "cell_type": "markdown",
   "metadata": {},
   "source": [
    "O método/função `read_input(palavra)` verifica se a _palavra_ é aceita pela Máquina de Turing e retorna a configuração final para ela."
   ]
  },
  {
   "cell_type": "code",
   "execution_count": 14,
   "metadata": {},
   "outputs": [
    {
     "name": "stdout",
     "output_type": "stream",
     "text": [
      "q4:    111111  \n",
      "             ^\n"
     ]
    }
   ],
   "source": [
    "dtm_mult.read_input('111*11').print()"
   ]
  },
  {
   "cell_type": "markdown",
   "metadata": {},
   "source": [
    "O método/função `read_input_stepwise(palavra)` verifica se a _palavra_ é aceita pela Máquina de Turing e retorna todas as configurações da execução."
   ]
  },
  {
   "cell_type": "code",
   "execution_count": 15,
   "metadata": {},
   "outputs": [
    {
     "data": {
      "text/plain": [
       "[TMConfiguration('q0', TMTape('11*11', 0)),\n",
       " TMConfiguration('q1', TMTape(' 1*11', 1)),\n",
       " TMConfiguration('q5', TMTape(' 1*11', 2)),\n",
       " TMConfiguration('q6', TMTape(' 1*11', 3)),\n",
       " TMConfiguration('q7', TMTape(' 1*E1', 4)),\n",
       " TMConfiguration('q7', TMTape(' 1*E1 ', 5)),\n",
       " TMConfiguration('q8', TMTape(' 1*E1Z', 4)),\n",
       " TMConfiguration('q8', TMTape(' 1*E1Z', 3)),\n",
       " TMConfiguration('q6', TMTape(' 1*E1Z', 4)),\n",
       " TMConfiguration('q7', TMTape(' 1*EEZ', 5)),\n",
       " TMConfiguration('q7', TMTape(' 1*EEZ ', 6)),\n",
       " TMConfiguration('q8', TMTape(' 1*EEZZ', 5)),\n",
       " TMConfiguration('q8', TMTape(' 1*EEZZ', 4)),\n",
       " TMConfiguration('q6', TMTape(' 1*EEZZ', 5)),\n",
       " TMConfiguration('q9', TMTape(' 1*EEZZ', 4)),\n",
       " TMConfiguration('q9', TMTape(' 1*E1ZZ', 3)),\n",
       " TMConfiguration('q9', TMTape(' 1*11ZZ', 2)),\n",
       " TMConfiguration('q10', TMTape(' 1*11ZZ', 1)),\n",
       " TMConfiguration('q10', TMTape(' 1*11ZZ', 0)),\n",
       " TMConfiguration('q0', TMTape(' 1*11ZZ', 1)),\n",
       " TMConfiguration('q1', TMTape('  *11ZZ', 2)),\n",
       " TMConfiguration('q2', TMTape('  111ZZ', 3)),\n",
       " TMConfiguration('q2', TMTape('  111ZZ', 4)),\n",
       " TMConfiguration('q2', TMTape('  111ZZ', 5)),\n",
       " TMConfiguration('q2', TMTape('  1111Z', 6)),\n",
       " TMConfiguration('q2', TMTape('  11111 ', 7)),\n",
       " TMConfiguration('q3', TMTape('  11111 ', 6)),\n",
       " TMConfiguration('q4', TMTape('  1111  ', 6))]"
      ]
     },
     "execution_count": 15,
     "metadata": {},
     "output_type": "execute_result"
    }
   ],
   "source": [
    "list(dtm_mult.read_input_stepwise('11*11')) # Lista todas as transições feitas pelo autômato."
   ]
  },
  {
   "cell_type": "markdown",
   "metadata": {},
   "source": [
    "Abaixo alguns casos de teste:"
   ]
  },
  {
   "cell_type": "code",
   "execution_count": 16,
   "metadata": {},
   "outputs": [
    {
     "name": "stdout",
     "output_type": "stream",
     "text": [
      "Verificando palavra: 1*1\n",
      "accepted\n",
      "q4:  1  \n",
      "      ^\n",
      "Verificando palavra: 1*111\n",
      "accepted\n",
      "q4:  111  \n",
      "        ^\n",
      "Verificando palavra: 1111*1\n",
      "accepted\n",
      "q4:     1111  \n",
      "            ^\n",
      "Verificando palavra: 111*111\n",
      "accepted\n",
      "q4:    111111111  \n",
      "                ^\n",
      "Verificando palavra: 1*\n",
      "accepted\n",
      "q4:    \n",
      "     ^\n"
     ]
    }
   ],
   "source": [
    "inputs = ['1*1','1*111','1111*1','111*111','1*']\n",
    "\n",
    "for i in inputs:\n",
    "    print(\"Verificando palavra:\", i)\n",
    "    if dtm_mult.accepts_input(i):\n",
    "        print('accepted')\n",
    "    else:\n",
    "        print('rejected')\n",
    "    dtm_mult.read_input(i).print()"
   ]
  },
  {
   "cell_type": "markdown",
   "metadata": {},
   "source": [
    "O autômato funciona no caso __1*__ (1x0) mas não no caso __*1__ (0x1) pois não há uma transição em q0 para o símbolo __*__."
   ]
  },
  {
   "cell_type": "markdown",
   "metadata": {},
   "source": [
    "## Divisão\n",
    "\n",
    "A máquina de Turing abaixo realiza a divisão de dois números em unário. A entrada é feita no formato __1/1__ e o resultado é a divisão inteira do número de símbolos  __1__ . O Autômato funciona removendo um símbolo __1__ do lado esquerdo e substituindo por __1__ por __E__ do lado direito a cada remoção bem sucedida. Quando não houver mais números __1__ do lado esquerdo, este adiciona um símbolo __Z__ à direta e troca todo __E__ por __1__ novamente, repetindo o processo enquanto houver símbolos à esquerda do símbolo de divisão. Em outras palavras, numa divisão __X/Y__ o autômato realiza sucessivas subtrações de __X__ por __Y__ , __Z__ vezes.  \n",
    "\n",
    "\n",
    "![Divisão](figuras/divisao.png)\n",
    "\n",
    "__Figura 5:__ Representação de uma máquina de turing que realiza divisão.\n",
    "\n",
    "\n",
    "A implementação da MT pode ser vista no código Divisão."
   ]
  },
  {
   "cell_type": "markdown",
   "metadata": {},
   "source": [
    "__Código Divisão:__ Implementação da Máquina de Turing para Divisão."
   ]
  },
  {
   "cell_type": "code",
   "execution_count": 17,
   "metadata": {},
   "outputs": [],
   "source": [
    "from automata.tm.dtm import DTM\n",
    "# Autômato que realiza a divisão de dois números unários \n",
    "dtm_div = DTM(\n",
    "    states={'q1', 'q2', 'q3', 'q4','q5','q6','q7','q8','q9','q10'},\n",
    "    input_symbols={'1','/'},\n",
    "    tape_symbols={'E', 'Z', '1', ' ','/','#'},\n",
    "    transitions={\n",
    "        'q1': {\n",
    "            '1': ('q4', ' ', 'R'),\n",
    "            '/': ('q2', '#', 'R')\n",
    "        },\n",
    "        'q2': {\n",
    "            'Z': ('q2', '1', 'R'),\n",
    "            '1': ('q2', '#', 'R'),\n",
    "            ' ': ('q3', ' ', 'N')\n",
    "        },\n",
    "        'q4': {\n",
    "            '1': ('q4', '1', 'R'),\n",
    "            '/': ('q5', '/', 'R')\n",
    "        },\n",
    "          'q5': {\n",
    "            'E': ('q5', 'E', 'R'),\n",
    "            'Z': ('q6', 'Z', 'L'),\n",
    "            ' ': ('q6', ' ', 'L'),\n",
    "            '1': ('q5', '1', 'R')\n",
    "        },\n",
    "          'q6': {\n",
    "            'E': ('q6', 'E', 'L'),\n",
    "            '1': ('q7', 'E', 'L')\n",
    "        },\n",
    "          'q7': {\n",
    "            '/': ('q8', '/', 'R'),\n",
    "            '1': ('q9', '1', 'L'),\n",
    "        },\n",
    "          'q8': {\n",
    "            'Z': ('q8', 'Z', 'R'),\n",
    "            'E': ('q8', '1', 'R'),\n",
    "            ' ': ('q9', 'Z', 'L')\n",
    "        },\n",
    "          'q9': {\n",
    "            'Z': ('q9', 'Z', 'L'),\n",
    "            '/': ('q10', '/', 'L'),\n",
    "            '1': ('q9', '1', 'L')\n",
    "        },\n",
    "          'q10': {\n",
    "            '1': ('q10', '1', 'L'),\n",
    "            ' ': ('q1', ' ', 'R')\n",
    "        }\n",
    "        \n",
    "    },\n",
    "    initial_state='q1',\n",
    "    blank_symbol=' ', #se não der certo  '#'\n",
    "    final_states={'q3'}\n",
    ")\n"
   ]
  },
  {
   "cell_type": "markdown",
   "metadata": {},
   "source": [
    "Função de Validação para verificar se a especificação está correta."
   ]
  },
  {
   "cell_type": "code",
   "execution_count": 18,
   "metadata": {},
   "outputs": [
    {
     "data": {
      "text/plain": [
       "True"
      ]
     },
     "execution_count": 18,
     "metadata": {},
     "output_type": "execute_result"
    }
   ],
   "source": [
    "dtm_div.validate()  # returns True"
   ]
  },
  {
   "cell_type": "markdown",
   "metadata": {},
   "source": [
    "O método/função `read_input(palavra)` verifica se a _palavra_ é aceita pela Máquina de Turing e retorna a configuração final para ela."
   ]
  },
  {
   "cell_type": "code",
   "execution_count": 19,
   "metadata": {},
   "outputs": [
    {
     "name": "stdout",
     "output_type": "stream",
     "text": [
      "q3:     ###11 \n",
      "             ^\n"
     ]
    }
   ],
   "source": [
    "dtm_div.read_input('1111/11').print()"
   ]
  },
  {
   "cell_type": "markdown",
   "metadata": {},
   "source": [
    "O método/função `read_input_stepwise(palavra)` verifica se a _palavra_ é aceita pela Máquina de Turing e retorna todas as configurações da execução."
   ]
  },
  {
   "cell_type": "code",
   "execution_count": 20,
   "metadata": {},
   "outputs": [
    {
     "data": {
      "text/plain": [
       "[TMConfiguration('q1', TMTape('11/11', 0)),\n",
       " TMConfiguration('q4', TMTape(' 1/11', 1)),\n",
       " TMConfiguration('q4', TMTape(' 1/11', 2)),\n",
       " TMConfiguration('q5', TMTape(' 1/11', 3)),\n",
       " TMConfiguration('q5', TMTape(' 1/11', 4)),\n",
       " TMConfiguration('q5', TMTape(' 1/11 ', 5)),\n",
       " TMConfiguration('q6', TMTape(' 1/11 ', 4)),\n",
       " TMConfiguration('q7', TMTape(' 1/1E ', 3)),\n",
       " TMConfiguration('q9', TMTape(' 1/1E ', 2)),\n",
       " TMConfiguration('q10', TMTape(' 1/1E ', 1)),\n",
       " TMConfiguration('q10', TMTape(' 1/1E ', 0)),\n",
       " TMConfiguration('q1', TMTape(' 1/1E ', 1)),\n",
       " TMConfiguration('q4', TMTape('  /1E ', 2)),\n",
       " TMConfiguration('q5', TMTape('  /1E ', 3)),\n",
       " TMConfiguration('q5', TMTape('  /1E ', 4)),\n",
       " TMConfiguration('q5', TMTape('  /1E ', 5)),\n",
       " TMConfiguration('q6', TMTape('  /1E ', 4)),\n",
       " TMConfiguration('q6', TMTape('  /1E ', 3)),\n",
       " TMConfiguration('q7', TMTape('  /EE ', 2)),\n",
       " TMConfiguration('q8', TMTape('  /EE ', 3)),\n",
       " TMConfiguration('q8', TMTape('  /1E ', 4)),\n",
       " TMConfiguration('q8', TMTape('  /11 ', 5)),\n",
       " TMConfiguration('q9', TMTape('  /11Z', 4)),\n",
       " TMConfiguration('q9', TMTape('  /11Z', 3)),\n",
       " TMConfiguration('q9', TMTape('  /11Z', 2)),\n",
       " TMConfiguration('q10', TMTape('  /11Z', 1)),\n",
       " TMConfiguration('q1', TMTape('  /11Z', 2)),\n",
       " TMConfiguration('q2', TMTape('  #11Z', 3)),\n",
       " TMConfiguration('q2', TMTape('  ##1Z', 4)),\n",
       " TMConfiguration('q2', TMTape('  ###Z', 5)),\n",
       " TMConfiguration('q2', TMTape('  ###1 ', 6)),\n",
       " TMConfiguration('q3', TMTape('  ###1 ', 6))]"
      ]
     },
     "execution_count": 20,
     "metadata": {},
     "output_type": "execute_result"
    }
   ],
   "source": [
    "list(dtm_div.read_input_stepwise('11/11')) # Lista todas as transições feitas pelo autômato."
   ]
  },
  {
   "cell_type": "markdown",
   "metadata": {},
   "source": [
    "Abaixo alguns casos de teste:"
   ]
  },
  {
   "cell_type": "code",
   "execution_count": 21,
   "metadata": {},
   "outputs": [
    {
     "name": "stdout",
     "output_type": "stream",
     "text": [
      "Verificando palavra: 1/1\n",
      "accepted\n",
      "q3:  ##1 \n",
      "        ^\n",
      "Verificando palavra: 111/1\n",
      "accepted\n",
      "q3:    ##111 \n",
      "            ^\n",
      "Verificando palavra: 111111/111\n",
      "accepted\n",
      "q3:       ####11 \n",
      "                ^\n",
      "Verificando palavra: /1\n",
      "accepted\n",
      "q3: ## \n",
      "      ^\n"
     ]
    }
   ],
   "source": [
    "inputs = ['1/1','111/1','111111/111','/1']\n",
    "\n",
    "for i in inputs:\n",
    "    print(\"Verificando palavra:\", i)\n",
    "    if dtm_div.accepts_input(i):\n",
    "        print('accepted')\n",
    "    else:\n",
    "        print('rejected')\n",
    "    dtm_div.read_input(i).print()"
   ]
  },
  {
   "cell_type": "markdown",
   "metadata": {
    "id": "3eyzSr_yKUO6"
   },
   "source": [
    "## Referências\n",
    "\n",
    "Ezhilarasu P, __Construction of a Basic Calculator through the Turing Machine -A Review__. International Journal of Engineering Trends and Applications (IJETA), v. 2, 2015. Disponível em: http://www.ijetajournal.org/volume-2/issue-6/IJETA-V2I6P1.pdf Acesso em: 17 jun. 2022.\n"
   ]
  }
 ],
 "metadata": {
  "colab": {
   "collapsed_sections": [],
   "include_colab_link": true,
   "name": "00-comp-introducao.ipynb",
   "provenance": [],
   "toc_visible": true
  },
  "interpreter": {
   "hash": "e7370f93d1d0cde622a1f8e1c04877d8463912d04d973331ad4851f04de6915a"
  },
  "kernelspec": {
   "display_name": "Python 3 (ipykernel)",
   "language": "python",
   "name": "python3"
  },
  "language_info": {
   "codemirror_mode": {
    "name": "ipython",
    "version": 3
   },
   "file_extension": ".py",
   "mimetype": "text/x-python",
   "name": "python",
   "nbconvert_exporter": "python",
   "pygments_lexer": "ipython3",
   "version": "3.9.12"
  }
 },
 "nbformat": 4,
 "nbformat_minor": 1
}
